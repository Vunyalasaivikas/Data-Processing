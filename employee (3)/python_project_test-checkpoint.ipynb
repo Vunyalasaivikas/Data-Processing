{
 "cells": [
  {
   "cell_type": "code",
   "execution_count": 1,
   "id": "d5eaf735",
   "metadata": {},
   "outputs": [],
   "source": [
    "import os\n",
    "import json"
   ]
  },
  {
   "cell_type": "code",
   "execution_count": 2,
   "id": "47dd2721",
   "metadata": {},
   "outputs": [
    {
     "name": "stdout",
     "output_type": "stream",
     "text": [
      "Number of files with 'employee' in the name: 3\n"
     ]
    }
   ],
   "source": [
    "directory_path = os.getcwd()\n",
    "employee_files = [file for file in os.listdir(directory_path) if 'employee' in file]\n",
    "\n",
    "number_of_employee_files = len(employee_files)\n",
    "print(f\"Number of files with 'employee' in the name: {number_of_employee_files}\")\n"
   ]
  },
  {
   "cell_type": "code",
   "execution_count": 3,
   "id": "afeff164",
   "metadata": {},
   "outputs": [
    {
     "name": "stdout",
     "output_type": "stream",
     "text": [
      "Found a JSON file: employee.json\n"
     ]
    }
   ],
   "source": [
    "json_file = next((file for file in employee_files if file.endswith('.json')), None)\n",
    "\n",
    "# Checking if a JSON file is found\n",
    "if json_file:\n",
    "    print(f\"Found a JSON file: {json_file}\")\n",
    "else:\n",
    "    print(\"No JSON file found.\")"
   ]
  },
  {
   "cell_type": "code",
   "execution_count": 4,
   "id": "b4ab2db0",
   "metadata": {},
   "outputs": [
    {
     "name": "stdout",
     "output_type": "stream",
     "text": [
      "JSON Data:\n",
      "{'objects': [{'ID': '1', 'JobTitle': 'Designer', 'EmailAddress': 'Leroy_Yarlett52@guentu.biz', 'FirstNameLastName': 'Leroy Yarlett', 'vaccinated': 'False'}, {'ID': '2', 'JobTitle': 'Webmaster', 'EmailAddress': 'Julian_Gonzales8496@famism.biz', 'FirstNameLastName': 'Julian Gonzales', 'vaccinated': 'True'}, {'ID': '3', 'JobTitle': 'Paramedic', 'EmailAddress': 'George_Porter6363@deons.tech', 'FirstNameLastName': 'George Porter', 'vaccinated': 'False'}, {'ID': '4', 'JobTitle': 'IT Support Staff', 'EmailAddress': 'Penny_Reynolds8665@supunk.biz', 'FirstNameLastName': 'Penny Reynolds', 'vaccinated': 'False'}, {'ID': '5', 'JobTitle': 'Dentist', 'EmailAddress': 'Gabriel_Upton1432@bungar.biz', 'FirstNameLastName': 'Gabriel Upton', 'vaccinated': 'True'}, {'ID': '6', 'JobTitle': 'Bookkeeper', 'EmailAddress': 'Rufus_Jeffery8782@mafthy.com', 'FirstNameLastName': 'Rufus Jeffery', 'vaccinated': 'True'}, {'ID': '7', 'JobTitle': 'Restaurant Manager', 'EmailAddress': 'Harry_Thomas3263@guentu.biz', 'FirstNameLastName': 'Harry Thomas', 'vaccinated': 'False'}, {'ID': '8', 'JobTitle': 'Audiologist', 'EmailAddress': 'Michaela_Little1010@yahoo.com', 'FirstNameLastName': 'Michaela Little', 'vaccinated': 'True'}, {'ID': '9', 'JobTitle': 'Loan Officer', 'EmailAddress': 'Mike_Tailor5085@qater.org', 'FirstNameLastName': 'Mike Tailor', 'vaccinated': 'False'}, {'ID': '10', 'JobTitle': 'Assistant Buyer', 'EmailAddress': 'Angelina_Haines1218@liret.org', 'FirstNameLastName': 'Angelina Haines', 'vaccinated': 'False'}, {'ID': '11', 'JobTitle': 'Pharmacist', 'EmailAddress': 'Goldie_Oakley4929@nanoff.biz', 'FirstNameLastName': 'Goldie Oakley', 'vaccinated': 'False'}, {'ID': '12', 'JobTitle': 'Global Logistics Supervisor', 'EmailAddress': 'Sylvia_Marshall5064@vetan.org', 'FirstNameLastName': 'Sylvia Marshall', 'vaccinated': 'True'}, {'ID': '13', 'JobTitle': 'Restaurant Manager', 'EmailAddress': 'Mike_Vaughn8880@bulaffy.com', 'FirstNameLastName': 'Mike Vaughn', 'vaccinated': 'True'}, {'ID': '14', 'JobTitle': 'Machine Operator', 'EmailAddress': 'Melinda_Shepherd7534@ubusive.com', 'FirstNameLastName': 'Melinda Shepherd', 'vaccinated': 'False'}, {'ID': '15', 'JobTitle': 'Operator', 'EmailAddress': 'Doris_Goldsmith6453@famism.biz', 'FirstNameLastName': 'Doris Goldsmith', 'vaccinated': 'True'}, {'ID': '16', 'JobTitle': 'Associate Professor', 'EmailAddress': 'Chris_Neal8692@typill.biz', 'FirstNameLastName': 'Chris Neal', 'vaccinated': 'False'}, {'ID': '17', 'JobTitle': 'Health Educator', 'EmailAddress': 'Harry_Chester2240@tonsy.org', 'FirstNameLastName': 'Harry Chester', 'vaccinated': 'True'}, {'ID': '18', 'JobTitle': 'Inspector', 'EmailAddress': 'Marla_Farrant3348@deons.tech', 'FirstNameLastName': 'Marla Farrant', 'vaccinated': 'False'}, {'ID': '19', 'JobTitle': 'Fabricator', 'EmailAddress': 'Tania_Kennedy8370@corti.com', 'FirstNameLastName': 'Tania Kennedy', 'vaccinated': 'False'}, {'ID': '20', 'JobTitle': 'Retail Trainee', 'EmailAddress': 'Bryon_Gibbons5610@corti.com', 'FirstNameLastName': 'Bryon Gibbons', 'vaccinated': 'False'}, {'ID': '21', 'JobTitle': 'Cash Manager', 'EmailAddress': 'Ivette_Taylor973@extex.org', 'FirstNameLastName': 'Ivette Taylor', 'vaccinated': 'False'}, {'ID': '22', 'JobTitle': 'HR Coordinator', 'EmailAddress': 'Chadwick_Eaton1419@twace.org', 'FirstNameLastName': 'Chadwick Eaton', 'vaccinated': 'False'}, {'ID': '23', 'JobTitle': 'Webmaster', 'EmailAddress': 'Chuck_Plumb9701@nickia.com', 'FirstNameLastName': 'Chuck Plumb', 'vaccinated': 'False'}, {'ID': '24', 'JobTitle': 'Steward', 'EmailAddress': 'Candace_London3099@mafthy.com', 'FirstNameLastName': 'Candace London', 'vaccinated': 'False'}, {'ID': '25', 'JobTitle': 'Investment  Advisor', 'EmailAddress': 'Marvin_Wilde6902@cispeto.com', 'FirstNameLastName': 'Marvin Wilde', 'vaccinated': 'True'}, {'ID': '26', 'JobTitle': 'Doctor', 'EmailAddress': 'Barry_Taylor950@grannar.com', 'FirstNameLastName': 'Barry Taylor', 'vaccinated': 'True'}, {'ID': '27', 'JobTitle': 'Bellman', 'EmailAddress': 'Elijah_Harrison3622@bungar.biz', 'FirstNameLastName': 'Elijah Harrison', 'vaccinated': 'False'}, {'ID': '28', 'JobTitle': 'Front Desk Coordinator', 'EmailAddress': 'Jazmin_Mason8297@gembat.biz', 'FirstNameLastName': 'Jazmin Mason', 'vaccinated': 'False'}, {'ID': '29', 'JobTitle': 'Budget Analyst', 'EmailAddress': 'Ramon_Whinter4041@elnee.tech', 'FirstNameLastName': 'Ramon Whinter', 'vaccinated': 'True'}, {'ID': '30', 'JobTitle': 'Doctor', 'EmailAddress': 'Candace_Darcy6235@jiman.org', 'FirstNameLastName': 'Candace Darcy', 'vaccinated': 'False'}, {'ID': '31', 'JobTitle': 'Insurance Broker', 'EmailAddress': 'Leilani_Rose1103@fuliss.net', 'FirstNameLastName': 'Leilani Rose', 'vaccinated': 'False'}, {'ID': '32', 'JobTitle': 'Software Engineer', 'EmailAddress': 'Noemi_Miller6490@eirey.tech', 'FirstNameLastName': 'Noemi Miller', 'vaccinated': 'True'}, {'ID': '33', 'JobTitle': 'Lecturer', 'EmailAddress': 'Alba_Carson2919@typill.biz', 'FirstNameLastName': 'Alba Carson', 'vaccinated': 'True'}, {'ID': '34', 'JobTitle': 'Doctor', 'EmailAddress': 'Russel_Walter1385@bungar.biz', 'FirstNameLastName': 'Russel Walter', 'vaccinated': 'True'}, {'ID': '35', 'JobTitle': 'Design Engineer', 'EmailAddress': 'Maia_Kennedy6742@naiker.biz', 'FirstNameLastName': 'Maia Kennedy', 'vaccinated': 'False'}, {'ID': '36', 'JobTitle': 'Physician', 'EmailAddress': 'Fred_Clifton2086@infotech44.tech', 'FirstNameLastName': 'Fred Clifton', 'vaccinated': 'False'}, {'ID': '37', 'JobTitle': 'Call Center Representative', 'EmailAddress': 'Alexander_Kennedy1766@mafthy.com', 'FirstNameLastName': 'Alexander Kennedy', 'vaccinated': 'True'}, {'ID': '38', 'JobTitle': 'Systems Administrator', 'EmailAddress': 'Naomi_Henderson4478@sheye.org', 'FirstNameLastName': 'Naomi Henderson', 'vaccinated': 'True'}, {'ID': '39', 'JobTitle': 'Biologist', 'EmailAddress': 'Hank_Howard765@liret.org', 'FirstNameLastName': 'Hank Howard', 'vaccinated': 'False'}, {'ID': '40', 'JobTitle': 'Steward', 'EmailAddress': 'Dorothy_Mackenzie4447@deons.tech', 'FirstNameLastName': 'Dorothy Mackenzie', 'vaccinated': 'False'}, {'ID': '41', 'JobTitle': 'Front Desk Coordinator', 'EmailAddress': 'Elena_Gregory8402@ubusive.com', 'FirstNameLastName': 'Elena Gregory', 'vaccinated': 'True'}, {'ID': '42', 'JobTitle': 'Production Painter', 'EmailAddress': 'Helen_Adams3473@guentu.biz', 'FirstNameLastName': 'Helen Adams', 'vaccinated': 'True'}, {'ID': '43', 'JobTitle': 'Software Engineer', 'EmailAddress': 'Lucas_Brooks385@typill.biz', 'FirstNameLastName': 'Lucas Brooks', 'vaccinated': 'False'}, {'ID': '44', 'JobTitle': 'Cook', 'EmailAddress': 'Angelina_Ross7491@qater.org', 'FirstNameLastName': 'Angelina Ross', 'vaccinated': 'True'}, {'ID': '45', 'JobTitle': 'Biologist', 'EmailAddress': 'Remy_Benfield4958@kideod.biz', 'FirstNameLastName': 'Remy Benfield', 'vaccinated': 'True'}, {'ID': '46', 'JobTitle': 'IT Support Staff', 'EmailAddress': 'Mackenzie_Neal4273@qater.org', 'FirstNameLastName': 'Mackenzie Neal', 'vaccinated': 'True'}, {'ID': '47', 'JobTitle': 'Associate Professor', 'EmailAddress': 'Janelle_Parker3414@twace.org', 'FirstNameLastName': 'Janelle Parker', 'vaccinated': 'True'}, {'ID': '48', 'JobTitle': 'Treasurer', 'EmailAddress': 'Matthew_Woodley2830@gembat.biz', 'FirstNameLastName': 'Matthew Woodley', 'vaccinated': 'True'}, {'ID': '49', 'JobTitle': 'Ambulatory Nurse', 'EmailAddress': 'Anthony_Coleman4896@nanoff.biz', 'FirstNameLastName': 'Anthony Coleman', 'vaccinated': 'True'}, {'ID': '50', 'JobTitle': 'Restaurant Manager', 'EmailAddress': 'Peyton_Hobson4407@iatim.tech', 'FirstNameLastName': 'Peyton Hobson', 'vaccinated': 'True'}]}\n"
     ]
    }
   ],
   "source": [
    "\n",
    "\n",
    "# Assuming json_file_path is the path to your JSON file\n",
    "json_file_path = \"employee.json\"  # Replace with the actual path to your JSON file\n",
    "\n",
    "with open(json_file_path, 'r') as file:\n",
    "    data = json.load(file)\n",
    "\n",
    "# Now, 'data' contains the parsed JSON content\n",
    "print(\"JSON Data:\")\n",
    "print(data)\n"
   ]
  },
  {
   "cell_type": "code",
   "execution_count": 5,
   "id": "b17c0fac",
   "metadata": {},
   "outputs": [
    {
     "name": "stdout",
     "output_type": "stream",
     "text": [
      "\n",
      "Details of Employee with ID 8:\n",
      "ID: 8\n",
      "JobTitle: Audiologist\n",
      "EmailAddress: Michaela_Little1010@yahoo.com\n",
      "FirstNameLastName: Michaela Little\n",
      "vaccinated: True\n"
     ]
    }
   ],
   "source": [
    "employee_id_to_print = '8'\n",
    "\n",
    "for employee in data['objects']:\n",
    "    if employee.get('ID') == employee_id_to_print:\n",
    "        print(\"\\nDetails of Employee with ID 8:\")\n",
    "        for key, value in employee.items():\n",
    "            print(f\"{key}: {value}\")\n",
    "        break  # Stop searching once we found the employee\n",
    "\n",
    "# If the loop completes and we didn't find the employee\n",
    "else:\n",
    "    print(f\"No employee found with ID {employee_id_to_print}.\")"
   ]
  },
  {
   "cell_type": "code",
   "execution_count": 6,
   "id": "b84e756d",
   "metadata": {},
   "outputs": [],
   "source": [
    "import sqlite3"
   ]
  },
  {
   "cell_type": "code",
   "execution_count": 8,
   "id": "46a3c8cd",
   "metadata": {},
   "outputs": [
    {
     "name": "stdout",
     "output_type": "stream",
     "text": [
      "['ID', 'JobTitle', 'EmailAddress', 'FirstNameLastName', 'vaccinated']\n"
     ]
    }
   ],
   "source": [
    "# Extracting column names\n",
    "column_names = list(data['objects'][0].keys())\n",
    "print(column_names)"
   ]
  },
  {
   "cell_type": "code",
   "execution_count": 9,
   "id": "e1ba7d48",
   "metadata": {},
   "outputs": [],
   "source": [
    "# Creating SQLite database and connecting\n",
    "db_connection = sqlite3.connect('data.db')\n",
    "cursor = db_connection.cursor()"
   ]
  },
  {
   "cell_type": "code",
   "execution_count": 10,
   "id": "900a1253",
   "metadata": {},
   "outputs": [
    {
     "data": {
      "text/plain": [
       "<sqlite3.Cursor at 0x22fef05a040>"
      ]
     },
     "execution_count": 10,
     "metadata": {},
     "output_type": "execute_result"
    }
   ],
   "source": [
    "# Creating a table with the extracted column names\n",
    "table_creation_query = f\"CREATE TABLE IF NOT EXISTS employee ({', '.join([f'{column} TEXT' for column in column_names])})\"\n",
    "cursor.execute(table_creation_query)\n"
   ]
  },
  {
   "cell_type": "code",
   "execution_count": 11,
   "id": "70e5f69a",
   "metadata": {},
   "outputs": [
    {
     "name": "stdout",
     "output_type": "stream",
     "text": [
      "Column Names: ['ID', 'JobTitle', 'EmailAddress', 'FirstNameLastName', 'vaccinated']\n"
     ]
    }
   ],
   "source": [
    "# Committing the changes and closing the connection\n",
    "db_connection.commit()\n",
    "db_connection.close()\n",
    "\n",
    "# Printing the extracted column names\n",
    "print(\"Column Names:\", column_names)"
   ]
  },
  {
   "cell_type": "code",
   "execution_count": 13,
   "id": "b91cafbb",
   "metadata": {},
   "outputs": [
    {
     "name": "stdout",
     "output_type": "stream",
     "text": [
      "Column Names: ['ID', 'JobTitle', 'EmailAddress', 'FirstNameLastName', 'vaccinated']\n"
     ]
    }
   ],
   "source": [
    "# Extracting column names\n",
    "column_names = list(data['objects'][0].keys())\n",
    "\n",
    "# Creating SQLite database and connecting\n",
    "db_connection = sqlite3.connect('data.db')\n",
    "cursor = db_connection.cursor()\n",
    "\n",
    "# Creating a table with the extracted column names\n",
    "table_creation_query = f\"CREATE TABLE IF NOT EXISTS employee ({', '.join([f'{column} TEXT' for column in column_names])})\"\n",
    "cursor.execute(table_creation_query)\n",
    "\n",
    "# Extracting values from the sample data and inserting into the \"employee\" table\n",
    "for employee_data in data['objects']:\n",
    "    # Extracting values for each column\n",
    "    values = [employee_data[column] for column in column_names]\n",
    "    \n",
    "    # Creating an SQL query to insert data into the \"employee\" table\n",
    "    insert_query = f\"INSERT INTO employee ({', '.join(column_names)}) VALUES ({', '.join(['?' for _ in column_names])})\"\n",
    "    \n",
    "    # Executing the query with the values\n",
    "    cursor.execute(insert_query, values)\n",
    "\n",
    "# Committing the changes and closing the connection\n",
    "db_connection.commit()\n",
    "db_connection.close()\n",
    "\n",
    "# Print the extracted column names\n",
    "print(\"Column Names:\", column_names)\n"
   ]
  },
  {
   "cell_type": "code",
   "execution_count": 15,
   "id": "378a8573",
   "metadata": {},
   "outputs": [
    {
     "name": "stdout",
     "output_type": "stream",
     "text": [
      "('1', 'Designer', 'Leroy_Yarlett52@guentu.biz', 'Leroy Yarlett', 'False')\n",
      "('2', 'Webmaster', 'Julian_Gonzales8496@famism.biz', 'Julian Gonzales', 'True')\n",
      "('3', 'Paramedic', 'George_Porter6363@deons.tech', 'George Porter', 'False')\n",
      "('4', 'IT Support Staff', 'Penny_Reynolds8665@supunk.biz', 'Penny Reynolds', 'False')\n",
      "('5', 'Dentist', 'Gabriel_Upton1432@bungar.biz', 'Gabriel Upton', 'True')\n",
      "('6', 'Bookkeeper', 'Rufus_Jeffery8782@mafthy.com', 'Rufus Jeffery', 'True')\n",
      "('7', 'Restaurant Manager', 'Harry_Thomas3263@guentu.biz', 'Harry Thomas', 'False')\n",
      "('8', 'Audiologist', 'Michaela_Little1010@yahoo.com', 'Michaela Little', 'True')\n",
      "('9', 'Loan Officer', 'Mike_Tailor5085@qater.org', 'Mike Tailor', 'False')\n",
      "('10', 'Assistant Buyer', 'Angelina_Haines1218@liret.org', 'Angelina Haines', 'False')\n",
      "('11', 'Pharmacist', 'Goldie_Oakley4929@nanoff.biz', 'Goldie Oakley', 'False')\n",
      "('12', 'Global Logistics Supervisor', 'Sylvia_Marshall5064@vetan.org', 'Sylvia Marshall', 'True')\n",
      "('13', 'Restaurant Manager', 'Mike_Vaughn8880@bulaffy.com', 'Mike Vaughn', 'True')\n",
      "('14', 'Machine Operator', 'Melinda_Shepherd7534@ubusive.com', 'Melinda Shepherd', 'False')\n",
      "('15', 'Operator', 'Doris_Goldsmith6453@famism.biz', 'Doris Goldsmith', 'True')\n",
      "('16', 'Associate Professor', 'Chris_Neal8692@typill.biz', 'Chris Neal', 'False')\n",
      "('17', 'Health Educator', 'Harry_Chester2240@tonsy.org', 'Harry Chester', 'True')\n",
      "('18', 'Inspector', 'Marla_Farrant3348@deons.tech', 'Marla Farrant', 'False')\n",
      "('19', 'Fabricator', 'Tania_Kennedy8370@corti.com', 'Tania Kennedy', 'False')\n",
      "('20', 'Retail Trainee', 'Bryon_Gibbons5610@corti.com', 'Bryon Gibbons', 'False')\n",
      "('21', 'Cash Manager', 'Ivette_Taylor973@extex.org', 'Ivette Taylor', 'False')\n",
      "('22', 'HR Coordinator', 'Chadwick_Eaton1419@twace.org', 'Chadwick Eaton', 'False')\n",
      "('23', 'Webmaster', 'Chuck_Plumb9701@nickia.com', 'Chuck Plumb', 'False')\n",
      "('24', 'Steward', 'Candace_London3099@mafthy.com', 'Candace London', 'False')\n",
      "('25', 'Investment  Advisor', 'Marvin_Wilde6902@cispeto.com', 'Marvin Wilde', 'True')\n",
      "('26', 'Doctor', 'Barry_Taylor950@grannar.com', 'Barry Taylor', 'True')\n",
      "('27', 'Bellman', 'Elijah_Harrison3622@bungar.biz', 'Elijah Harrison', 'False')\n",
      "('28', 'Front Desk Coordinator', 'Jazmin_Mason8297@gembat.biz', 'Jazmin Mason', 'False')\n",
      "('29', 'Budget Analyst', 'Ramon_Whinter4041@elnee.tech', 'Ramon Whinter', 'True')\n",
      "('30', 'Doctor', 'Candace_Darcy6235@jiman.org', 'Candace Darcy', 'False')\n",
      "('31', 'Insurance Broker', 'Leilani_Rose1103@fuliss.net', 'Leilani Rose', 'False')\n",
      "('32', 'Software Engineer', 'Noemi_Miller6490@eirey.tech', 'Noemi Miller', 'True')\n",
      "('33', 'Lecturer', 'Alba_Carson2919@typill.biz', 'Alba Carson', 'True')\n",
      "('34', 'Doctor', 'Russel_Walter1385@bungar.biz', 'Russel Walter', 'True')\n",
      "('35', 'Design Engineer', 'Maia_Kennedy6742@naiker.biz', 'Maia Kennedy', 'False')\n",
      "('36', 'Physician', 'Fred_Clifton2086@infotech44.tech', 'Fred Clifton', 'False')\n",
      "('37', 'Call Center Representative', 'Alexander_Kennedy1766@mafthy.com', 'Alexander Kennedy', 'True')\n",
      "('38', 'Systems Administrator', 'Naomi_Henderson4478@sheye.org', 'Naomi Henderson', 'True')\n",
      "('39', 'Biologist', 'Hank_Howard765@liret.org', 'Hank Howard', 'False')\n",
      "('40', 'Steward', 'Dorothy_Mackenzie4447@deons.tech', 'Dorothy Mackenzie', 'False')\n",
      "('41', 'Front Desk Coordinator', 'Elena_Gregory8402@ubusive.com', 'Elena Gregory', 'True')\n",
      "('42', 'Production Painter', 'Helen_Adams3473@guentu.biz', 'Helen Adams', 'True')\n",
      "('43', 'Software Engineer', 'Lucas_Brooks385@typill.biz', 'Lucas Brooks', 'False')\n",
      "('44', 'Cook', 'Angelina_Ross7491@qater.org', 'Angelina Ross', 'True')\n",
      "('45', 'Biologist', 'Remy_Benfield4958@kideod.biz', 'Remy Benfield', 'True')\n",
      "('46', 'IT Support Staff', 'Mackenzie_Neal4273@qater.org', 'Mackenzie Neal', 'True')\n",
      "('47', 'Associate Professor', 'Janelle_Parker3414@twace.org', 'Janelle Parker', 'True')\n",
      "('48', 'Treasurer', 'Matthew_Woodley2830@gembat.biz', 'Matthew Woodley', 'True')\n",
      "('49', 'Ambulatory Nurse', 'Anthony_Coleman4896@nanoff.biz', 'Anthony Coleman', 'True')\n",
      "('50', 'Restaurant Manager', 'Peyton_Hobson4407@iatim.tech', 'Peyton Hobson', 'True')\n"
     ]
    }
   ],
   "source": [
    "import sqlite3\n",
    "\n",
    "# Connecting to the SQLite database\n",
    "db_connection = sqlite3.connect('data.db')\n",
    "cursor = db_connection.cursor()\n",
    "\n",
    "# Query to select all data from the \"employee\" table\n",
    "select_query = \"SELECT * FROM employee;\"\n",
    "cursor.execute(select_query)\n",
    "\n",
    "# Fetch all the rows\n",
    "rows = cursor.fetchall()\n",
    "\n",
    "# Closing the connection\n",
    "db_connection.close()\n",
    "\n",
    "# Print the data\n",
    "for row in rows:\n",
    "    print(row)\n"
   ]
  },
  {
   "cell_type": "code",
   "execution_count": 17,
   "id": "2899a38b",
   "metadata": {},
   "outputs": [
    {
     "name": "stdout",
     "output_type": "stream",
     "text": [
      "Final DataFrame:\n",
      "    ID                     JobTitle                      EmailAddress  \\\n",
      "0    1                     Designer        Leroy_Yarlett52@guentu.biz   \n",
      "1    2                    Webmaster    Julian_Gonzales8496@famism.biz   \n",
      "2    3                    Paramedic      George_Porter6363@deons.tech   \n",
      "3    4             IT Support Staff     Penny_Reynolds8665@supunk.biz   \n",
      "4    5                      Dentist      Gabriel_Upton1432@bungar.biz   \n",
      "5    6                   Bookkeeper      Rufus_Jeffery8782@mafthy.com   \n",
      "6    7           Restaurant Manager       Harry_Thomas3263@guentu.biz   \n",
      "7    8                  Audiologist     Michaela_Little1010@yahoo.com   \n",
      "8    9                 Loan Officer         Mike_Tailor5085@qater.org   \n",
      "9   10              Assistant Buyer     Angelina_Haines1218@liret.org   \n",
      "10  11                   Pharmacist      Goldie_Oakley4929@nanoff.biz   \n",
      "11  12  Global Logistics Supervisor     Sylvia_Marshall5064@vetan.org   \n",
      "12  13           Restaurant Manager       Mike_Vaughn8880@bulaffy.com   \n",
      "13  14             Machine Operator  Melinda_Shepherd7534@ubusive.com   \n",
      "14  15                     Operator    Doris_Goldsmith6453@famism.biz   \n",
      "15  16          Associate Professor         Chris_Neal8692@typill.biz   \n",
      "16  17              Health Educator       Harry_Chester2240@tonsy.org   \n",
      "17  18                    Inspector      Marla_Farrant3348@deons.tech   \n",
      "18  19                   Fabricator       Tania_Kennedy8370@corti.com   \n",
      "19  20               Retail Trainee       Bryon_Gibbons5610@corti.com   \n",
      "20  21                 Cash Manager        Ivette_Taylor973@extex.org   \n",
      "21  22               HR Coordinator      Chadwick_Eaton1419@twace.org   \n",
      "22  23                    Webmaster        Chuck_Plumb9701@nickia.com   \n",
      "23  24                      Steward     Candace_London3099@mafthy.com   \n",
      "24  25          Investment  Advisor      Marvin_Wilde6902@cispeto.com   \n",
      "25  26                       Doctor       Barry_Taylor950@grannar.com   \n",
      "26  27                      Bellman    Elijah_Harrison3622@bungar.biz   \n",
      "27  28       Front Desk Coordinator       Jazmin_Mason8297@gembat.biz   \n",
      "28  29               Budget Analyst      Ramon_Whinter4041@elnee.tech   \n",
      "29  30                       Doctor       Candace_Darcy6235@jiman.org   \n",
      "30  31             Insurance Broker       Leilani_Rose1103@fuliss.net   \n",
      "31  32            Software Engineer       Noemi_Miller6490@eirey.tech   \n",
      "32  33                     Lecturer        Alba_Carson2919@typill.biz   \n",
      "33  34                       Doctor      Russel_Walter1385@bungar.biz   \n",
      "34  35              Design Engineer       Maia_Kennedy6742@naiker.biz   \n",
      "35  36                    Physician  Fred_Clifton2086@infotech44.tech   \n",
      "36  37   Call Center Representative  Alexander_Kennedy1766@mafthy.com   \n",
      "37  38        Systems Administrator     Naomi_Henderson4478@sheye.org   \n",
      "38  39                    Biologist          Hank_Howard765@liret.org   \n",
      "39  40                      Steward  Dorothy_Mackenzie4447@deons.tech   \n",
      "40  41       Front Desk Coordinator     Elena_Gregory8402@ubusive.com   \n",
      "41  42           Production Painter        Helen_Adams3473@guentu.biz   \n",
      "42  43            Software Engineer        Lucas_Brooks385@typill.biz   \n",
      "43  44                         Cook       Angelina_Ross7491@qater.org   \n",
      "44  45                    Biologist      Remy_Benfield4958@kideod.biz   \n",
      "45  46             IT Support Staff      Mackenzie_Neal4273@qater.org   \n",
      "46  47          Associate Professor      Janelle_Parker3414@twace.org   \n",
      "47  48                    Treasurer    Matthew_Woodley2830@gembat.biz   \n",
      "48  49             Ambulatory Nurse    Anthony_Coleman4896@nanoff.biz   \n",
      "49  50           Restaurant Manager      Peyton_Hobson4407@iatim.tech   \n",
      "\n",
      "    FirstNameLastName vaccinated  bonus percent  \n",
      "0       Leroy Yarlett      False           0.05  \n",
      "1     Julian Gonzales       True           0.15  \n",
      "2       George Porter      False           0.05  \n",
      "3      Penny Reynolds      False           0.05  \n",
      "4       Gabriel Upton       True           0.15  \n",
      "5       Rufus Jeffery       True           0.15  \n",
      "6        Harry Thomas      False           0.05  \n",
      "7     Michaela Little       True           0.15  \n",
      "8         Mike Tailor      False           0.05  \n",
      "9     Angelina Haines      False           0.05  \n",
      "10      Goldie Oakley      False           0.05  \n",
      "11    Sylvia Marshall       True           0.15  \n",
      "12        Mike Vaughn       True           0.15  \n",
      "13   Melinda Shepherd      False           0.05  \n",
      "14    Doris Goldsmith       True           0.15  \n",
      "15         Chris Neal      False           0.05  \n",
      "16      Harry Chester       True           0.15  \n",
      "17      Marla Farrant      False           0.05  \n",
      "18      Tania Kennedy      False           0.05  \n",
      "19      Bryon Gibbons      False           0.05  \n",
      "20      Ivette Taylor      False           0.05  \n",
      "21     Chadwick Eaton      False           0.05  \n",
      "22        Chuck Plumb      False           0.05  \n",
      "23     Candace London      False           0.05  \n",
      "24       Marvin Wilde       True           0.15  \n",
      "25       Barry Taylor       True           0.15  \n",
      "26    Elijah Harrison      False           0.05  \n",
      "27       Jazmin Mason      False           0.05  \n",
      "28      Ramon Whinter       True           0.15  \n",
      "29      Candace Darcy      False           0.05  \n",
      "30       Leilani Rose      False           0.05  \n",
      "31       Noemi Miller       True           0.15  \n",
      "32        Alba Carson       True           0.15  \n",
      "33      Russel Walter       True           0.15  \n",
      "34       Maia Kennedy      False           0.05  \n",
      "35       Fred Clifton      False           0.05  \n",
      "36  Alexander Kennedy       True           0.15  \n",
      "37    Naomi Henderson       True           0.15  \n",
      "38        Hank Howard      False           0.05  \n",
      "39  Dorothy Mackenzie      False           0.05  \n",
      "40      Elena Gregory       True           0.15  \n",
      "41        Helen Adams       True           0.15  \n",
      "42       Lucas Brooks      False           0.05  \n",
      "43      Angelina Ross       True           0.15  \n",
      "44      Remy Benfield       True           0.15  \n",
      "45     Mackenzie Neal       True           0.15  \n",
      "46     Janelle Parker       True           0.15  \n",
      "47    Matthew Woodley       True           0.15  \n",
      "48    Anthony Coleman       True           0.15  \n",
      "49      Peyton Hobson       True           0.15  \n",
      "\n",
      "DataFrame exported to Excel file: employee.xlsx\n"
     ]
    }
   ],
   "source": [
    "import sqlite3\n",
    "import pandas as pd\n",
    "\n",
    "# Connecting to the SQLite database\n",
    "db_connection = sqlite3.connect('data.db')\n",
    "\n",
    "# Reading data into a Pandas DataFrame\n",
    "query = \"SELECT * FROM employee;\"\n",
    "df = pd.read_sql_query(query, db_connection)\n",
    "\n",
    "# Closing the connection\n",
    "db_connection.close()\n",
    "\n",
    "# Adding a \"bonus percent\" column based on vaccination status\n",
    "df['bonus percent'] = df['vaccinated'].apply(lambda x: 0.15 if x == 'True' else 0.05)\n",
    "\n",
    "# Exporting the final DataFrame to an Excel file\n",
    "excel_file_path = 'employee.xlsx'\n",
    "df.to_excel(excel_file_path, index=False)\n",
    "\n",
    "# Displaying the DataFrame\n",
    "print(\"Final DataFrame:\")\n",
    "print(df)\n",
    "\n",
    "# Printing a message about the Excel export\n",
    "print(f\"\\nDataFrame exported to Excel file: {excel_file_path}\")\n"
   ]
  },
  {
   "cell_type": "code",
   "execution_count": null,
   "id": "a6b9ed75",
   "metadata": {},
   "outputs": [],
   "source": []
  }
 ],
 "metadata": {
  "kernelspec": {
   "display_name": "Python 3 (ipykernel)",
   "language": "python",
   "name": "python3"
  },
  "language_info": {
   "codemirror_mode": {
    "name": "ipython",
    "version": 3
   },
   "file_extension": ".py",
   "mimetype": "text/x-python",
   "name": "python",
   "nbconvert_exporter": "python",
   "pygments_lexer": "ipython3",
   "version": "3.11.5"
  }
 },
 "nbformat": 4,
 "nbformat_minor": 5
}
